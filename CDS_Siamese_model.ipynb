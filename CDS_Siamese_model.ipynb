{
 "cells": [
  {
   "cell_type": "code",
   "execution_count": 1,
   "metadata": {},
   "outputs": [],
   "source": [
    "import pandas as pd\n",
    "import numpy as np\n",
    "import pandasql as pf\n",
    "import re\n",
    "from nltk import word_tokenize\n",
    "import matplotlib.pyplot as plt\n",
    "from sklearn.model_selection import train_test_split\n",
    "\n",
    "from keras.models import Sequential, Model\n",
    "from keras.layers import Dense, Dropout, LSTM, Embedding\n",
    "from keras.preprocessing.text import Tokenizer\n",
    "from keras.preprocessing.sequence import pad_sequences\n",
    "from nltk.corpus import stopwords\n",
    "\n",
    "from keras.layers import SimpleRNN,LSTM,Conv1D,MaxPooling1D,Dropout, Input, Bidirectional, Activation, Flatten\n",
    "from keras import regularizers\n",
    "from keras.layers import BatchNormalization\n",
    "from keras import optimizers\n",
    "from keras import initializers\n",
    "from keras.utils.vis_utils import plot_model\n",
    "\n",
    "from keras.callbacks import *\n",
    "from keras import backend as K\n",
    "import keras \n",
    "\n",
    "import tensorflow as tf\n",
    "\n",
    "from keras.callbacks import *\n",
    "from keras.optimizers import Adam"
   ]
  },
  {
   "cell_type": "code",
   "execution_count": 10,
   "metadata": {},
   "outputs": [],
   "source": [
    "df = pd.read_csv('MLDataset_10.csv')"
   ]
  },
  {
   "cell_type": "code",
   "execution_count": 14,
   "metadata": {},
   "outputs": [
    {
     "name": "stdout",
     "output_type": "stream",
     "text": [
      "Before removing \"no subtitles\", # records = 5806\n"
     ]
    }
   ],
   "source": [
    "print('Before removing \"no subtitles\", # records =',len(df))"
   ]
  },
  {
   "cell_type": "code",
   "execution_count": 15,
   "metadata": {},
   "outputs": [],
   "source": [
    "df = df[df.transcript != \"Nosubtitles\"]"
   ]
  },
  {
   "cell_type": "code",
   "execution_count": 16,
   "metadata": {},
   "outputs": [
    {
     "name": "stdout",
     "output_type": "stream",
     "text": [
      "after removing \"no subtitles\", # records = 4840\n"
     ]
    }
   ],
   "source": [
    "print('after removing \"no subtitles\", # records =',len(df))"
   ]
  },
  {
   "cell_type": "code",
   "execution_count": 17,
   "metadata": {},
   "outputs": [],
   "source": [
    "df = df.dropna(subset =['Course'])"
   ]
  },
  {
   "cell_type": "code",
   "execution_count": 91,
   "metadata": {
    "scrolled": true
   },
   "outputs": [
    {
     "data": {
      "text/plain": [
       "<matplotlib.axes._subplots.AxesSubplot at 0x294e749bac8>"
      ]
     },
     "execution_count": 91,
     "metadata": {},
     "output_type": "execute_result"
    },
    {
     "data": {
      "image/png": "[encoded data removed]",
      "text/plain": [
       "<Figure size 432x288 with 1 Axes>"
      ]
     },
     "metadata": {
      "needs_background": "light"
     },
     "output_type": "display_data"
    }
   ],
   "source": [
    "df['Course'].hist()"
   ]
  },
  {
   "cell_type": "code",
   "execution_count": 92,
   "metadata": {
    "scrolled": true
   },
   "outputs": [
    {
     "data": {
      "text/plain": [
       "150"
      ]
     },
     "execution_count": 92,
     "metadata": {},
     "output_type": "execute_result"
    }
   ],
   "source": [
    "len(df)"
   ]
  },
  {
   "cell_type": "code",
   "execution_count": 21,
   "metadata": {},
   "outputs": [],
   "source": [
    "test = df.groupby(\"Course\").filter(lambda g: g.Course.size >= 70)"
   ]
  },
  {
   "cell_type": "code",
   "execution_count": 22,
   "metadata": {},
   "outputs": [
    {
     "data": {
      "text/plain": [
       "ISM 3011: Information Systems in Organizations                         1860\n",
       "ACG 2021: Principles of Financial Accounting                            679\n",
       "GEB 4890 Strategic Management/Executive Decision Making (capstone)      375\n",
       "ACG 3401 - Accounting Information Systems                               296\n",
       "MAN 3301: Human Resources Management                                    151\n",
       "MAN 4737: Integrated Management Applications                            148\n",
       "ACG 4632 - Audit I                                                      139\n",
       "MAR 3613 Marketing Research                                             127\n",
       "CGS 2100 Computers in Business                                          119\n",
       "ISM 3113: Systems Analysis and Design                                   118\n",
       "MAR 4824 Marketing Management Problems (capstone)                       112\n",
       "FIN 4443 Financial Policies and Strategies                              109\n",
       "CGS2011                                                                  96\n",
       "ACG3341                                                                  77\n",
       "FIN 3144 Fundamental of Financial Planning                               72\n",
       "Name: Course, dtype: int64"
      ]
     },
     "execution_count": 22,
     "metadata": {},
     "output_type": "execute_result"
    }
   ],
   "source": [
    "test['Course'].value_counts()"
   ]
  },
  {
   "cell_type": "code",
   "execution_count": 23,
   "metadata": {},
   "outputs": [],
   "source": [
    "dfsub = test.groupby('Course', group_keys=False).apply(lambda x: x.sample(min(len(x), 10 )))"
   ]
  },
  {
   "cell_type": "code",
   "execution_count": 24,
   "metadata": {
    "scrolled": true
   },
   "outputs": [
    {
     "data": {
      "text/plain": [
       "ACG 2021: Principles of Financial Accounting                           10\n",
       "ISM 3113: Systems Analysis and Design                                  10\n",
       "ACG3341                                                                10\n",
       "CGS 2100 Computers in Business                                         10\n",
       "FIN 4443 Financial Policies and Strategies                             10\n",
       "GEB 4890 Strategic Management/Executive Decision Making (capstone)     10\n",
       "ACG 4632 - Audit I                                                     10\n",
       "ACG 3401 - Accounting Information Systems                              10\n",
       "MAR 3613 Marketing Research                                            10\n",
       "MAN 3301: Human Resources Management                                   10\n",
       "MAN 4737: Integrated Management Applications                           10\n",
       "MAR 4824 Marketing Management Problems (capstone)                      10\n",
       "ISM 3011: Information Systems in Organizations                         10\n",
       "CGS2011                                                                10\n",
       "FIN 3144 Fundamental of Financial Planning                             10\n",
       "Name: Course, dtype: int64"
      ]
     },
     "execution_count": 24,
     "metadata": {},
     "output_type": "execute_result"
    }
   ],
   "source": [
    "dfsub['Course'].value_counts()"
   ]
  },
  {
   "cell_type": "code",
   "execution_count": 122,
   "metadata": {},
   "outputs": [],
   "source": [
    "dfsub.to_csv('C:/Users/kavin/CDSdatasetsample.csv')"
   ]
  },
  {
   "cell_type": "code",
   "execution_count": 25,
   "metadata": {},
   "outputs": [],
   "source": [
    "df = dfsub"
   ]
  },
  {
   "cell_type": "markdown",
   "metadata": {},
   "source": [
    "Creating X and Y"
   ]
  },
  {
   "cell_type": "code",
   "execution_count": 26,
   "metadata": {},
   "outputs": [],
   "source": [
    "X = df[['transcript']]\n",
    "y = df[['Course']]\n",
    "y_course = df[['Course']]"
   ]
  },
  {
   "cell_type": "markdown",
   "metadata": {},
   "source": [
    "### Ordinalizing"
   ]
  },
  {
   "cell_type": "code",
   "execution_count": 27,
   "metadata": {},
   "outputs": [],
   "source": [
    "from sklearn.preprocessing import OrdinalEncoder\n",
    "encoder = OrdinalEncoder() \n",
    "y = pd.DataFrame(encoder.fit_transform(y), columns=['ordinal'])\n",
    "y = y.astype(int)"
   ]
  },
  {
   "cell_type": "code",
   "execution_count": 28,
   "metadata": {},
   "outputs": [
    {
     "data": {
      "text/plain": [
       "array([ 0,  1,  2,  3,  4,  5,  6,  7,  8,  9, 10, 11, 12, 13, 14])"
      ]
     },
     "execution_count": 28,
     "metadata": {},
     "output_type": "execute_result"
    }
   ],
   "source": [
    "y['ordinal'].unique()"
   ]
  },
  {
   "cell_type": "code",
   "execution_count": 29,
   "metadata": {},
   "outputs": [],
   "source": [
    "#Define a pattern\n",
    "\n",
    "pat1= '#[^ ]+'\n",
    "pat2 = 'www.[^ ]+'\n",
    "pat3 = '@[^ ]+'\n",
    "pat4 = '[0-9]+'\n",
    "negations_dic = {\"isn't\":\"is not\", \"aren't\":\"are not\", \"wasn't\":\"was not\", \"weren't\":\"were not\",   \n",
    "                \"haven't\":\"have not\",\"hasn't\":\"has not\",\"hadn't\":\"had not\",\"won't\":\"will not\",\n",
    "                \"wouldn't\":\"would not\", \"don't\":\"do not\", \"doesn't\":\"does not\",\"didn't\":\"did not\",\n",
    "                \"can't\":\"can not\",\"couldn't\":\"could not\",\"shouldn't\":\"should not\",\"mightn't\":\"might not\",\n",
    "                \"mustn't\":\"must not\"}\n",
    "\n",
    "\n",
    "pattern = '|'.join((pat1,pat2,pat3,pat4))\n",
    "neg_pattern = re.compile(r'\\b(' + '|'.join(negations_dic.keys()) + r')\\b')"
   ]
  },
  {
   "cell_type": "code",
   "execution_count": 30,
   "metadata": {},
   "outputs": [
    {
     "data": {
      "text/plain": [
       "re.compile(r\"\\b(isn't|aren't|wasn't|weren't|haven't|hasn't|hadn't|won't|wouldn't|don't|doesn't|didn't|can't|couldn't|shouldn't|mightn't|mustn't)\\b\",\n",
       "re.UNICODE)"
      ]
     },
     "execution_count": 30,
     "metadata": {},
     "output_type": "execute_result"
    }
   ],
   "source": [
    "neg_pattern"
   ]
  },
  {
   "cell_type": "code",
   "execution_count": 31,
   "metadata": {},
   "outputs": [],
   "source": [
    "stop_words = stopwords.words('english')\n",
    "clean_subs = []\n",
    "\n",
    "\n",
    "for t in X['transcript']:\n",
    "    t.lower()\n",
    "    t = re.sub(pattern,'',t)\n",
    "    t = neg_pattern.sub(lambda X: negations_dic[X.group()], t)\n",
    "    t = word_tokenize(t)\n",
    "    t = [X for X in t if len(X) >1]\n",
    "    t = [X for X in t if X not in stop_words]\n",
    "    t = [X for X in t if X.isalpha()]\n",
    "    t = \" \".join(t)\n",
    "    t = re.sub(\"n't\",\"not\",t)\n",
    "    t = re.sub(\"'s\",\"is\",t)\n",
    "    clean_subs.append(t)"
   ]
  },
  {
   "cell_type": "code",
   "execution_count": 32,
   "metadata": {},
   "outputs": [],
   "source": [
    "X = pd.DataFrame(clean_subs,columns = ['transcript'])"
   ]
  },
  {
   "cell_type": "markdown",
   "metadata": {},
   "source": [
    "### Tokenizing and padding sequences"
   ]
  },
  {
   "cell_type": "code",
   "execution_count": 33,
   "metadata": {},
   "outputs": [],
   "source": [
    "tk = Tokenizer(num_words=300)\n",
    "tk.fit_on_texts(X['transcript'])\n",
    "\n",
    "df_tok = tk.texts_to_sequences(X['transcript'])\n",
    "#X_test_tok = tk.texts_to_sequences(X_test)\n",
    "\n",
    "max_len =300\n",
    "df_pad = pad_sequences(df_tok, maxlen=max_len, padding = 'post')\n",
    "#X_test_pad = pad_sequences(X_test_tok, maxlen=max_len)"
   ]
  },
  {
   "cell_type": "code",
   "execution_count": 34,
   "metadata": {
    "scrolled": false
   },
   "outputs": [
    {
     "data": {
      "text/plain": [
       "array([[ 84,  19,  11, ...,   0,   0,   0],\n",
       "       [ 15,  38,  11, ...,   0,   0,   0],\n",
       "       [ 38,  78,  79, ...,   0,   0,   0],\n",
       "       ...,\n",
       "       [ 38, 274,   2, ...,   0,   0,   0],\n",
       "       [ 64,   6, 176, ..., 232, 161, 103],\n",
       "       [ 38, 169,  21, ...,   0,   0,   0]])"
      ]
     },
     "execution_count": 34,
     "metadata": {},
     "output_type": "execute_result"
    }
   ],
   "source": [
    "df_pad"
   ]
  },
  {
   "cell_type": "code",
   "execution_count": 35,
   "metadata": {},
   "outputs": [
    {
     "name": "stdout",
     "output_type": "stream",
     "text": [
      "4504\n"
     ]
    }
   ],
   "source": [
    "unique_vocab = len(tk.word_index)\n",
    "print(unique_vocab)"
   ]
  },
  {
   "cell_type": "code",
   "execution_count": 36,
   "metadata": {},
   "outputs": [
    {
     "data": {
      "text/plain": [
       "<keras_preprocessing.text.Tokenizer at 0x294c1718448>"
      ]
     },
     "execution_count": 36,
     "metadata": {},
     "output_type": "execute_result"
    }
   ],
   "source": [
    "tk"
   ]
  },
  {
   "cell_type": "code",
   "execution_count": 37,
   "metadata": {},
   "outputs": [
    {
     "data": {
      "text/plain": [
       "4504"
      ]
     },
     "execution_count": 37,
     "metadata": {},
     "output_type": "execute_result"
    }
   ],
   "source": [
    "len(tk.word_index)"
   ]
  },
  {
   "cell_type": "markdown",
   "metadata": {},
   "source": [
    "### training pre-trained word embedding library with New set of words in data"
   ]
  },
  {
   "cell_type": "code",
   "execution_count": 39,
   "metadata": {},
   "outputs": [],
   "source": [
    "words_intext = []\n",
    "for word, i in tk.word_index.items():\n",
    "    words_intext.append(str(word))"
   ]
  },
  {
   "cell_type": "code",
   "execution_count": 40,
   "metadata": {},
   "outputs": [],
   "source": [
    "words_intext = [words_intext]"
   ]
  },
  {
   "cell_type": "code",
   "execution_count": 41,
   "metadata": {},
   "outputs": [],
   "source": [
    "#pip install gensim"
   ]
  },
  {
   "cell_type": "code",
   "execution_count": 46,
   "metadata": {
    "scrolled": true
   },
   "outputs": [],
   "source": [
    "from gensim.models import Word2Vec\n",
    "word2vec_model = Word2Vec(size = 300, window=5,\n",
    "min_count = 1, workers = 2)\n",
    "# help(word2vec_model.build_vocab)\n",
    "word2vec_model.build_vocab(words_intext)\n",
    "word2vec_model.intersect_word2vec_format('C:/Users/kavin/GoogleNews-vectors-negative300.bin', lockf=1.0, binary=True)\n"
   ]
  },
  {
   "cell_type": "code",
   "execution_count": 47,
   "metadata": {},
   "outputs": [
    {
     "data": {
      "text/plain": [
       "(22520, 22520)"
      ]
     },
     "execution_count": 47,
     "metadata": {},
     "output_type": "execute_result"
    }
   ],
   "source": [
    "word2vec_model.train(words_intext, total_examples=1, epochs = 5)"
   ]
  },
  {
   "cell_type": "code",
   "execution_count": 49,
   "metadata": {
    "scrolled": true
   },
   "outputs": [
    {
     "name": "stderr",
     "output_type": "stream",
     "text": [
      "C:\\Users\\kavin\\anaconda3\\lib\\site-packages\\ipykernel_launcher.py:1: DeprecationWarning: Call to deprecated `__getitem__` (Method will be removed in 4.0.0, use self.wv.__getitem__() instead).\n",
      "  \"\"\"Entry point for launching an IPython kernel.\n"
     ]
    },
    {
     "data": {
      "text/plain": [
       "(300,)"
      ]
     },
     "execution_count": 49,
     "metadata": {},
     "output_type": "execute_result"
    }
   ],
   "source": [
    "word2vec_model['tableau'].shape"
   ]
  },
  {
   "cell_type": "markdown",
   "metadata": {},
   "source": [
    "### Creating the embeddings"
   ]
  },
  {
   "cell_type": "code",
   "execution_count": 50,
   "metadata": {},
   "outputs": [
    {
     "name": "stderr",
     "output_type": "stream",
     "text": [
      "C:\\Users\\kavin\\anaconda3\\lib\\site-packages\\ipykernel_launcher.py:9: DeprecationWarning: Call to deprecated `__getitem__` (Method will be removed in 4.0.0, use self.wv.__getitem__() instead).\n",
      "  if __name__ == '__main__':\n"
     ]
    }
   ],
   "source": [
    "embedding_dim = 300\n",
    "\n",
    "embedding_matrix = np.zeros((unique_vocab+1, embedding_dim)) # intial embedding matrix with zeros \\\n",
    "                                                             #with dim (# of token word , # of features)\n",
    "# Now get the feature for token words\n",
    "\n",
    "for word, i in tk.word_index.items():      \n",
    "    if word in word2vec_model.wv.vocab:\n",
    "        embedding_matrix[i] = word2vec_model[word]    "
   ]
  },
  {
   "cell_type": "code",
   "execution_count": 51,
   "metadata": {},
   "outputs": [
    {
     "data": {
      "text/plain": [
       "(4505, 300)"
      ]
     },
     "execution_count": 51,
     "metadata": {},
     "output_type": "execute_result"
    }
   ],
   "source": [
    "embedding_matrix.shape"
   ]
  },
  {
   "cell_type": "markdown",
   "metadata": {},
   "source": [
    "### Doing cross join on padded dataset"
   ]
  },
  {
   "cell_type": "code",
   "execution_count": 52,
   "metadata": {
    "scrolled": true
   },
   "outputs": [
    {
     "data": {
      "text/plain": [
       "(150, 300)"
      ]
     },
     "execution_count": 52,
     "metadata": {},
     "output_type": "execute_result"
    }
   ],
   "source": [
    "df_pad.shape"
   ]
  },
  {
   "cell_type": "code",
   "execution_count": 53,
   "metadata": {
    "scrolled": true
   },
   "outputs": [
    {
     "data": {
      "text/plain": [
       "array([[ 84,  19,  11, ...,   0,   0,   0],\n",
       "       [ 15,  38,  11, ...,   0,   0,   0],\n",
       "       [ 38,  78,  79, ...,   0,   0,   0],\n",
       "       ...,\n",
       "       [ 38, 274,   2, ...,   0,   0,   0],\n",
       "       [ 64,   6, 176, ..., 232, 161, 103],\n",
       "       [ 38, 169,  21, ...,   0,   0,   0]])"
      ]
     },
     "execution_count": 53,
     "metadata": {},
     "output_type": "execute_result"
    }
   ],
   "source": [
    "df_pad"
   ]
  },
  {
   "cell_type": "code",
   "execution_count": 54,
   "metadata": {},
   "outputs": [],
   "source": [
    "df_pad_df = pd.DataFrame(df_pad)"
   ]
  },
  {
   "cell_type": "code",
   "execution_count": 55,
   "metadata": {
    "scrolled": false
   },
   "outputs": [
    {
     "data": {
      "text/html": [
       "<div>\n",
       "<style scoped>\n",
       "    .dataframe tbody tr th:only-of-type {\n",
       "        vertical-align: middle;\n",
       "    }\n",
       "\n",
       "    .dataframe tbody tr th {\n",
       "        vertical-align: top;\n",
       "    }\n",
       "\n",
       "    .dataframe thead th {\n",
       "        text-align: right;\n",
       "    }\n",
       "</style>\n",
       "<table border=\"1\" class=\"dataframe\">\n",
       "  <thead>\n",
       "    <tr style=\"text-align: right;\">\n",
       "      <th></th>\n",
       "      <th>0</th>\n",
       "      <th>1</th>\n",
       "      <th>2</th>\n",
       "      <th>3</th>\n",
       "      <th>4</th>\n",
       "      <th>5</th>\n",
       "      <th>6</th>\n",
       "      <th>7</th>\n",
       "      <th>8</th>\n",
       "      <th>9</th>\n",
       "      <th>...</th>\n",
       "      <th>290</th>\n",
       "      <th>291</th>\n",
       "      <th>292</th>\n",
       "      <th>293</th>\n",
       "      <th>294</th>\n",
       "      <th>295</th>\n",
       "      <th>296</th>\n",
       "      <th>297</th>\n",
       "      <th>298</th>\n",
       "      <th>299</th>\n",
       "    </tr>\n",
       "  </thead>\n",
       "  <tbody>\n",
       "    <tr>\n",
       "      <th>0</th>\n",
       "      <td>84</td>\n",
       "      <td>19</td>\n",
       "      <td>11</td>\n",
       "      <td>40</td>\n",
       "      <td>191</td>\n",
       "      <td>84</td>\n",
       "      <td>214</td>\n",
       "      <td>169</td>\n",
       "      <td>239</td>\n",
       "      <td>76</td>\n",
       "      <td>...</td>\n",
       "      <td>0</td>\n",
       "      <td>0</td>\n",
       "      <td>0</td>\n",
       "      <td>0</td>\n",
       "      <td>0</td>\n",
       "      <td>0</td>\n",
       "      <td>0</td>\n",
       "      <td>0</td>\n",
       "      <td>0</td>\n",
       "      <td>0</td>\n",
       "    </tr>\n",
       "    <tr>\n",
       "      <th>1</th>\n",
       "      <td>15</td>\n",
       "      <td>38</td>\n",
       "      <td>11</td>\n",
       "      <td>17</td>\n",
       "      <td>2</td>\n",
       "      <td>27</td>\n",
       "      <td>2</td>\n",
       "      <td>97</td>\n",
       "      <td>30</td>\n",
       "      <td>56</td>\n",
       "      <td>...</td>\n",
       "      <td>0</td>\n",
       "      <td>0</td>\n",
       "      <td>0</td>\n",
       "      <td>0</td>\n",
       "      <td>0</td>\n",
       "      <td>0</td>\n",
       "      <td>0</td>\n",
       "      <td>0</td>\n",
       "      <td>0</td>\n",
       "      <td>0</td>\n",
       "    </tr>\n",
       "    <tr>\n",
       "      <th>2</th>\n",
       "      <td>38</td>\n",
       "      <td>78</td>\n",
       "      <td>79</td>\n",
       "      <td>274</td>\n",
       "      <td>147</td>\n",
       "      <td>136</td>\n",
       "      <td>5</td>\n",
       "      <td>126</td>\n",
       "      <td>241</td>\n",
       "      <td>5</td>\n",
       "      <td>...</td>\n",
       "      <td>0</td>\n",
       "      <td>0</td>\n",
       "      <td>0</td>\n",
       "      <td>0</td>\n",
       "      <td>0</td>\n",
       "      <td>0</td>\n",
       "      <td>0</td>\n",
       "      <td>0</td>\n",
       "      <td>0</td>\n",
       "      <td>0</td>\n",
       "    </tr>\n",
       "    <tr>\n",
       "      <th>3</th>\n",
       "      <td>131</td>\n",
       "      <td>11</td>\n",
       "      <td>38</td>\n",
       "      <td>147</td>\n",
       "      <td>136</td>\n",
       "      <td>113</td>\n",
       "      <td>113</td>\n",
       "      <td>113</td>\n",
       "      <td>79</td>\n",
       "      <td>84</td>\n",
       "      <td>...</td>\n",
       "      <td>0</td>\n",
       "      <td>0</td>\n",
       "      <td>0</td>\n",
       "      <td>0</td>\n",
       "      <td>0</td>\n",
       "      <td>0</td>\n",
       "      <td>0</td>\n",
       "      <td>0</td>\n",
       "      <td>0</td>\n",
       "      <td>0</td>\n",
       "    </tr>\n",
       "    <tr>\n",
       "      <th>4</th>\n",
       "      <td>38</td>\n",
       "      <td>274</td>\n",
       "      <td>78</td>\n",
       "      <td>79</td>\n",
       "      <td>5</td>\n",
       "      <td>126</td>\n",
       "      <td>61</td>\n",
       "      <td>49</td>\n",
       "      <td>16</td>\n",
       "      <td>182</td>\n",
       "      <td>...</td>\n",
       "      <td>0</td>\n",
       "      <td>0</td>\n",
       "      <td>0</td>\n",
       "      <td>0</td>\n",
       "      <td>0</td>\n",
       "      <td>0</td>\n",
       "      <td>0</td>\n",
       "      <td>0</td>\n",
       "      <td>0</td>\n",
       "      <td>0</td>\n",
       "    </tr>\n",
       "    <tr>\n",
       "      <th>...</th>\n",
       "      <td>...</td>\n",
       "      <td>...</td>\n",
       "      <td>...</td>\n",
       "      <td>...</td>\n",
       "      <td>...</td>\n",
       "      <td>...</td>\n",
       "      <td>...</td>\n",
       "      <td>...</td>\n",
       "      <td>...</td>\n",
       "      <td>...</td>\n",
       "      <td>...</td>\n",
       "      <td>...</td>\n",
       "      <td>...</td>\n",
       "      <td>...</td>\n",
       "      <td>...</td>\n",
       "      <td>...</td>\n",
       "      <td>...</td>\n",
       "      <td>...</td>\n",
       "      <td>...</td>\n",
       "      <td>...</td>\n",
       "      <td>...</td>\n",
       "    </tr>\n",
       "    <tr>\n",
       "      <th>145</th>\n",
       "      <td>131</td>\n",
       "      <td>38</td>\n",
       "      <td>22</td>\n",
       "      <td>28</td>\n",
       "      <td>83</td>\n",
       "      <td>63</td>\n",
       "      <td>13</td>\n",
       "      <td>83</td>\n",
       "      <td>223</td>\n",
       "      <td>28</td>\n",
       "      <td>...</td>\n",
       "      <td>0</td>\n",
       "      <td>0</td>\n",
       "      <td>0</td>\n",
       "      <td>0</td>\n",
       "      <td>0</td>\n",
       "      <td>0</td>\n",
       "      <td>0</td>\n",
       "      <td>0</td>\n",
       "      <td>0</td>\n",
       "      <td>0</td>\n",
       "    </tr>\n",
       "    <tr>\n",
       "      <th>146</th>\n",
       "      <td>38</td>\n",
       "      <td>11</td>\n",
       "      <td>148</td>\n",
       "      <td>18</td>\n",
       "      <td>4</td>\n",
       "      <td>48</td>\n",
       "      <td>32</td>\n",
       "      <td>12</td>\n",
       "      <td>40</td>\n",
       "      <td>5</td>\n",
       "      <td>...</td>\n",
       "      <td>0</td>\n",
       "      <td>0</td>\n",
       "      <td>0</td>\n",
       "      <td>0</td>\n",
       "      <td>0</td>\n",
       "      <td>0</td>\n",
       "      <td>0</td>\n",
       "      <td>0</td>\n",
       "      <td>0</td>\n",
       "      <td>0</td>\n",
       "    </tr>\n",
       "    <tr>\n",
       "      <th>147</th>\n",
       "      <td>38</td>\n",
       "      <td>274</td>\n",
       "      <td>2</td>\n",
       "      <td>147</td>\n",
       "      <td>136</td>\n",
       "      <td>113</td>\n",
       "      <td>8</td>\n",
       "      <td>274</td>\n",
       "      <td>213</td>\n",
       "      <td>158</td>\n",
       "      <td>...</td>\n",
       "      <td>0</td>\n",
       "      <td>0</td>\n",
       "      <td>0</td>\n",
       "      <td>0</td>\n",
       "      <td>0</td>\n",
       "      <td>0</td>\n",
       "      <td>0</td>\n",
       "      <td>0</td>\n",
       "      <td>0</td>\n",
       "      <td>0</td>\n",
       "    </tr>\n",
       "    <tr>\n",
       "      <th>148</th>\n",
       "      <td>64</td>\n",
       "      <td>6</td>\n",
       "      <td>176</td>\n",
       "      <td>176</td>\n",
       "      <td>109</td>\n",
       "      <td>176</td>\n",
       "      <td>31</td>\n",
       "      <td>4</td>\n",
       "      <td>29</td>\n",
       "      <td>40</td>\n",
       "      <td>...</td>\n",
       "      <td>16</td>\n",
       "      <td>16</td>\n",
       "      <td>50</td>\n",
       "      <td>52</td>\n",
       "      <td>84</td>\n",
       "      <td>19</td>\n",
       "      <td>156</td>\n",
       "      <td>232</td>\n",
       "      <td>161</td>\n",
       "      <td>103</td>\n",
       "    </tr>\n",
       "    <tr>\n",
       "      <th>149</th>\n",
       "      <td>38</td>\n",
       "      <td>169</td>\n",
       "      <td>21</td>\n",
       "      <td>156</td>\n",
       "      <td>11</td>\n",
       "      <td>158</td>\n",
       "      <td>18</td>\n",
       "      <td>16</td>\n",
       "      <td>70</td>\n",
       "      <td>71</td>\n",
       "      <td>...</td>\n",
       "      <td>0</td>\n",
       "      <td>0</td>\n",
       "      <td>0</td>\n",
       "      <td>0</td>\n",
       "      <td>0</td>\n",
       "      <td>0</td>\n",
       "      <td>0</td>\n",
       "      <td>0</td>\n",
       "      <td>0</td>\n",
       "      <td>0</td>\n",
       "    </tr>\n",
       "  </tbody>\n",
       "</table>\n",
       "<p>150 rows × 300 columns</p>\n",
       "</div>"
      ],
      "text/plain": [
       "     0    1    2    3    4    5    6    7    8    9    ...  290  291  292  \\\n",
       "0     84   19   11   40  191   84  214  169  239   76  ...    0    0    0   \n",
       "1     15   38   11   17    2   27    2   97   30   56  ...    0    0    0   \n",
       "2     38   78   79  274  147  136    5  126  241    5  ...    0    0    0   \n",
       "3    131   11   38  147  136  113  113  113   79   84  ...    0    0    0   \n",
       "4     38  274   78   79    5  126   61   49   16  182  ...    0    0    0   \n",
       "..   ...  ...  ...  ...  ...  ...  ...  ...  ...  ...  ...  ...  ...  ...   \n",
       "145  131   38   22   28   83   63   13   83  223   28  ...    0    0    0   \n",
       "146   38   11  148   18    4   48   32   12   40    5  ...    0    0    0   \n",
       "147   38  274    2  147  136  113    8  274  213  158  ...    0    0    0   \n",
       "148   64    6  176  176  109  176   31    4   29   40  ...   16   16   50   \n",
       "149   38  169   21  156   11  158   18   16   70   71  ...    0    0    0   \n",
       "\n",
       "     293  294  295  296  297  298  299  \n",
       "0      0    0    0    0    0    0    0  \n",
       "1      0    0    0    0    0    0    0  \n",
       "2      0    0    0    0    0    0    0  \n",
       "3      0    0    0    0    0    0    0  \n",
       "4      0    0    0    0    0    0    0  \n",
       "..   ...  ...  ...  ...  ...  ...  ...  \n",
       "145    0    0    0    0    0    0    0  \n",
       "146    0    0    0    0    0    0    0  \n",
       "147    0    0    0    0    0    0    0  \n",
       "148   52   84   19  156  232  161  103  \n",
       "149    0    0    0    0    0    0    0  \n",
       "\n",
       "[150 rows x 300 columns]"
      ]
     },
     "execution_count": 55,
     "metadata": {},
     "output_type": "execute_result"
    }
   ],
   "source": [
    "df_pad_df"
   ]
  },
  {
   "cell_type": "code",
   "execution_count": 56,
   "metadata": {},
   "outputs": [],
   "source": [
    "df_merged = df_pad_df[df_pad_df.columns[:]].apply(\n",
    "    lambda x: ','.join(x.astype(str)),\n",
    "    axis=1\n",
    ")"
   ]
  },
  {
   "cell_type": "code",
   "execution_count": 57,
   "metadata": {
    "scrolled": true
   },
   "outputs": [],
   "source": [
    "df_merged = pd.merge(pd.DataFrame(df_merged),y, left_index=True, right_index=True)"
   ]
  },
  {
   "cell_type": "code",
   "execution_count": 58,
   "metadata": {
    "scrolled": true
   },
   "outputs": [
    {
     "data": {
      "text/html": [
       "<div>\n",
       "<style scoped>\n",
       "    .dataframe tbody tr th:only-of-type {\n",
       "        vertical-align: middle;\n",
       "    }\n",
       "\n",
       "    .dataframe tbody tr th {\n",
       "        vertical-align: top;\n",
       "    }\n",
       "\n",
       "    .dataframe thead th {\n",
       "        text-align: right;\n",
       "    }\n",
       "</style>\n",
       "<table border=\"1\" class=\"dataframe\">\n",
       "  <thead>\n",
       "    <tr style=\"text-align: right;\">\n",
       "      <th></th>\n",
       "      <th>0</th>\n",
       "      <th>ordinal</th>\n",
       "    </tr>\n",
       "  </thead>\n",
       "  <tbody>\n",
       "    <tr>\n",
       "      <th>0</th>\n",
       "      <td>84,19,11,40,191,84,214,169,239,76,239,16,182,1...</td>\n",
       "      <td>0</td>\n",
       "    </tr>\n",
       "    <tr>\n",
       "      <th>1</th>\n",
       "      <td>15,38,11,17,2,27,2,97,30,56,30,2,23,102,151,23...</td>\n",
       "      <td>0</td>\n",
       "    </tr>\n",
       "    <tr>\n",
       "      <th>2</th>\n",
       "      <td>38,78,79,274,147,136,5,126,241,5,61,32,5,126,6...</td>\n",
       "      <td>0</td>\n",
       "    </tr>\n",
       "    <tr>\n",
       "      <th>3</th>\n",
       "      <td>131,11,38,147,136,113,113,113,79,84,5,177,5,23...</td>\n",
       "      <td>0</td>\n",
       "    </tr>\n",
       "    <tr>\n",
       "      <th>4</th>\n",
       "      <td>38,274,78,79,5,126,61,49,16,182,23,23,23,294,2...</td>\n",
       "      <td>0</td>\n",
       "    </tr>\n",
       "    <tr>\n",
       "      <th>...</th>\n",
       "      <td>...</td>\n",
       "      <td>...</td>\n",
       "    </tr>\n",
       "    <tr>\n",
       "      <th>145</th>\n",
       "      <td>131,38,22,28,83,63,13,83,223,28,3,274,147,136,...</td>\n",
       "      <td>14</td>\n",
       "    </tr>\n",
       "    <tr>\n",
       "      <th>146</th>\n",
       "      <td>38,11,148,18,4,48,32,12,40,5,277,92,1,284,4,23...</td>\n",
       "      <td>14</td>\n",
       "    </tr>\n",
       "    <tr>\n",
       "      <th>147</th>\n",
       "      <td>38,274,2,147,136,113,8,274,213,158,158,136,89,...</td>\n",
       "      <td>14</td>\n",
       "    </tr>\n",
       "    <tr>\n",
       "      <th>148</th>\n",
       "      <td>64,6,176,176,109,176,31,4,29,40,4,21,50,47,12,...</td>\n",
       "      <td>14</td>\n",
       "    </tr>\n",
       "    <tr>\n",
       "      <th>149</th>\n",
       "      <td>38,169,21,156,11,158,18,16,70,71,124,5,40,19,4...</td>\n",
       "      <td>14</td>\n",
       "    </tr>\n",
       "  </tbody>\n",
       "</table>\n",
       "<p>150 rows × 2 columns</p>\n",
       "</div>"
      ],
      "text/plain": [
       "                                                     0  ordinal\n",
       "0    84,19,11,40,191,84,214,169,239,76,239,16,182,1...        0\n",
       "1    15,38,11,17,2,27,2,97,30,56,30,2,23,102,151,23...        0\n",
       "2    38,78,79,274,147,136,5,126,241,5,61,32,5,126,6...        0\n",
       "3    131,11,38,147,136,113,113,113,79,84,5,177,5,23...        0\n",
       "4    38,274,78,79,5,126,61,49,16,182,23,23,23,294,2...        0\n",
       "..                                                 ...      ...\n",
       "145  131,38,22,28,83,63,13,83,223,28,3,274,147,136,...       14\n",
       "146  38,11,148,18,4,48,32,12,40,5,277,92,1,284,4,23...       14\n",
       "147  38,274,2,147,136,113,8,274,213,158,158,136,89,...       14\n",
       "148  64,6,176,176,109,176,31,4,29,40,4,21,50,47,12,...       14\n",
       "149  38,169,21,156,11,158,18,16,70,71,124,5,40,19,4...       14\n",
       "\n",
       "[150 rows x 2 columns]"
      ]
     },
     "execution_count": 58,
     "metadata": {},
     "output_type": "execute_result"
    }
   ],
   "source": [
    "df_merged"
   ]
  },
  {
   "cell_type": "code",
   "execution_count": 60,
   "metadata": {},
   "outputs": [],
   "source": [
    "dfcj = pf.sqldf('''select * from df_merged a,df_merged b''')"
   ]
  },
  {
   "cell_type": "code",
   "execution_count": 61,
   "metadata": {
    "scrolled": true
   },
   "outputs": [
    {
     "data": {
      "text/html": [
       "<div>\n",
       "<style scoped>\n",
       "    .dataframe tbody tr th:only-of-type {\n",
       "        vertical-align: middle;\n",
       "    }\n",
       "\n",
       "    .dataframe tbody tr th {\n",
       "        vertical-align: top;\n",
       "    }\n",
       "\n",
       "    .dataframe thead th {\n",
       "        text-align: right;\n",
       "    }\n",
       "</style>\n",
       "<table border=\"1\" class=\"dataframe\">\n",
       "  <thead>\n",
       "    <tr style=\"text-align: right;\">\n",
       "      <th></th>\n",
       "      <th>0</th>\n",
       "      <th>ordinal</th>\n",
       "      <th>0</th>\n",
       "      <th>ordinal</th>\n",
       "    </tr>\n",
       "  </thead>\n",
       "  <tbody>\n",
       "    <tr>\n",
       "      <th>22490</th>\n",
       "      <td>38,169,21,156,11,158,18,16,70,71,124,5,40,19,4...</td>\n",
       "      <td>14</td>\n",
       "      <td>131,38,22,63,63,140,13,101,83,63,140,169,132,1...</td>\n",
       "      <td>14</td>\n",
       "    </tr>\n",
       "    <tr>\n",
       "      <th>22491</th>\n",
       "      <td>38,169,21,156,11,158,18,16,70,71,124,5,40,19,4...</td>\n",
       "      <td>14</td>\n",
       "      <td>38,5,126,158,37,39,99,19,289,138,25,146,50,50,...</td>\n",
       "      <td>14</td>\n",
       "    </tr>\n",
       "    <tr>\n",
       "      <th>22492</th>\n",
       "      <td>38,169,21,156,11,158,18,16,70,71,124,5,40,19,4...</td>\n",
       "      <td>14</td>\n",
       "      <td>131,38,5,126,158,148,5,43,43,16,208,158,8,9,1,...</td>\n",
       "      <td>14</td>\n",
       "    </tr>\n",
       "    <tr>\n",
       "      <th>22493</th>\n",
       "      <td>38,169,21,156,11,158,18,16,70,71,124,5,40,19,4...</td>\n",
       "      <td>14</td>\n",
       "      <td>38,169,268,19,5,5,84,169,229,82,163,22,32,17,3...</td>\n",
       "      <td>14</td>\n",
       "    </tr>\n",
       "    <tr>\n",
       "      <th>22494</th>\n",
       "      <td>38,169,21,156,11,158,18,16,70,71,124,5,40,19,4...</td>\n",
       "      <td>14</td>\n",
       "      <td>169,21,5,192,6,5,62,4,38,7,85,246,246,116,14,1...</td>\n",
       "      <td>14</td>\n",
       "    </tr>\n",
       "    <tr>\n",
       "      <th>22495</th>\n",
       "      <td>38,169,21,156,11,158,18,16,70,71,124,5,40,19,4...</td>\n",
       "      <td>14</td>\n",
       "      <td>131,38,22,28,83,63,13,83,223,28,3,274,147,136,...</td>\n",
       "      <td>14</td>\n",
       "    </tr>\n",
       "    <tr>\n",
       "      <th>22496</th>\n",
       "      <td>38,169,21,156,11,158,18,16,70,71,124,5,40,19,4...</td>\n",
       "      <td>14</td>\n",
       "      <td>38,11,148,18,4,48,32,12,40,5,277,92,1,284,4,23...</td>\n",
       "      <td>14</td>\n",
       "    </tr>\n",
       "    <tr>\n",
       "      <th>22497</th>\n",
       "      <td>38,169,21,156,11,158,18,16,70,71,124,5,40,19,4...</td>\n",
       "      <td>14</td>\n",
       "      <td>38,274,2,147,136,113,8,274,213,158,158,136,89,...</td>\n",
       "      <td>14</td>\n",
       "    </tr>\n",
       "    <tr>\n",
       "      <th>22498</th>\n",
       "      <td>38,169,21,156,11,158,18,16,70,71,124,5,40,19,4...</td>\n",
       "      <td>14</td>\n",
       "      <td>64,6,176,176,109,176,31,4,29,40,4,21,50,47,12,...</td>\n",
       "      <td>14</td>\n",
       "    </tr>\n",
       "    <tr>\n",
       "      <th>22499</th>\n",
       "      <td>38,169,21,156,11,158,18,16,70,71,124,5,40,19,4...</td>\n",
       "      <td>14</td>\n",
       "      <td>38,169,21,156,11,158,18,16,70,71,124,5,40,19,4...</td>\n",
       "      <td>14</td>\n",
       "    </tr>\n",
       "  </tbody>\n",
       "</table>\n",
       "</div>"
      ],
      "text/plain": [
       "                                                       0  ordinal  \\\n",
       "22490  38,169,21,156,11,158,18,16,70,71,124,5,40,19,4...       14   \n",
       "22491  38,169,21,156,11,158,18,16,70,71,124,5,40,19,4...       14   \n",
       "22492  38,169,21,156,11,158,18,16,70,71,124,5,40,19,4...       14   \n",
       "22493  38,169,21,156,11,158,18,16,70,71,124,5,40,19,4...       14   \n",
       "22494  38,169,21,156,11,158,18,16,70,71,124,5,40,19,4...       14   \n",
       "22495  38,169,21,156,11,158,18,16,70,71,124,5,40,19,4...       14   \n",
       "22496  38,169,21,156,11,158,18,16,70,71,124,5,40,19,4...       14   \n",
       "22497  38,169,21,156,11,158,18,16,70,71,124,5,40,19,4...       14   \n",
       "22498  38,169,21,156,11,158,18,16,70,71,124,5,40,19,4...       14   \n",
       "22499  38,169,21,156,11,158,18,16,70,71,124,5,40,19,4...       14   \n",
       "\n",
       "                                                       0  ordinal  \n",
       "22490  131,38,22,63,63,140,13,101,83,63,140,169,132,1...       14  \n",
       "22491  38,5,126,158,37,39,99,19,289,138,25,146,50,50,...       14  \n",
       "22492  131,38,5,126,158,148,5,43,43,16,208,158,8,9,1,...       14  \n",
       "22493  38,169,268,19,5,5,84,169,229,82,163,22,32,17,3...       14  \n",
       "22494  169,21,5,192,6,5,62,4,38,7,85,246,246,116,14,1...       14  \n",
       "22495  131,38,22,28,83,63,13,83,223,28,3,274,147,136,...       14  \n",
       "22496  38,11,148,18,4,48,32,12,40,5,277,92,1,284,4,23...       14  \n",
       "22497  38,274,2,147,136,113,8,274,213,158,158,136,89,...       14  \n",
       "22498  64,6,176,176,109,176,31,4,29,40,4,21,50,47,12,...       14  \n",
       "22499  38,169,21,156,11,158,18,16,70,71,124,5,40,19,4...       14  "
      ]
     },
     "execution_count": 61,
     "metadata": {},
     "output_type": "execute_result"
    }
   ],
   "source": [
    "dfcj.tail(10)"
   ]
  },
  {
   "cell_type": "code",
   "execution_count": 62,
   "metadata": {},
   "outputs": [],
   "source": [
    "dfcj['similar'] = np.where(dfcj.iloc[:,1] == dfcj.iloc[:,3] , 1, 0)"
   ]
  },
  {
   "cell_type": "code",
   "execution_count": 64,
   "metadata": {},
   "outputs": [],
   "source": [
    "dfcj = dfcj.drop(['ordinal'], axis = 1)"
   ]
  },
  {
   "cell_type": "markdown",
   "metadata": {},
   "source": [
    "### Create train and test"
   ]
  },
  {
   "cell_type": "code",
   "execution_count": 65,
   "metadata": {},
   "outputs": [],
   "source": [
    "X_train, X_test, y_train, y_test = train_test_split(dfcj.iloc[:,0:2], dfcj['similar'], test_size=0.3, random_state=42,stratify=dfcj['similar'])"
   ]
  },
  {
   "cell_type": "code",
   "execution_count": 66,
   "metadata": {},
   "outputs": [
    {
     "data": {
      "text/html": [
       "<div>\n",
       "<style scoped>\n",
       "    .dataframe tbody tr th:only-of-type {\n",
       "        vertical-align: middle;\n",
       "    }\n",
       "\n",
       "    .dataframe tbody tr th {\n",
       "        vertical-align: top;\n",
       "    }\n",
       "\n",
       "    .dataframe thead th {\n",
       "        text-align: right;\n",
       "    }\n",
       "</style>\n",
       "<table border=\"1\" class=\"dataframe\">\n",
       "  <thead>\n",
       "    <tr style=\"text-align: right;\">\n",
       "      <th></th>\n",
       "      <th>0</th>\n",
       "      <th>0</th>\n",
       "    </tr>\n",
       "  </thead>\n",
       "  <tbody>\n",
       "    <tr>\n",
       "      <th>20240</th>\n",
       "      <td>38,274,196,21,5,290,249,21,7,85,160,22,249,256...</td>\n",
       "      <td>131,38,22,63,63,140,13,101,83,63,140,169,132,1...</td>\n",
       "    </tr>\n",
       "    <tr>\n",
       "      <th>16193</th>\n",
       "      <td>131,38,19,11,1,5,126,165,16,11,280,167,91,11,3...</td>\n",
       "      <td>38,169,268,19,5,5,84,169,229,82,163,22,32,17,3...</td>\n",
       "    </tr>\n",
       "    <tr>\n",
       "      <th>17473</th>\n",
       "      <td>15,11,259,37,17,73,50,5,16,263,136,149,142,18,...</td>\n",
       "      <td>131,38,19,156,196,169,177,253,214,82,19,14,16,...</td>\n",
       "    </tr>\n",
       "    <tr>\n",
       "      <th>12456</th>\n",
       "      <td>259,289,17,17,94,83,5,25,5,70,71,62,25,3,124,8...</td>\n",
       "      <td>38,43,61,2,46,164,133,2,294,30,17,30,2,30,2,23...</td>\n",
       "    </tr>\n",
       "    <tr>\n",
       "      <th>15226</th>\n",
       "      <td>131,38,13,13,140,44,83,223,28,101,196,11,19,15...</td>\n",
       "      <td>38,19,11,109,185,43,1,17,25,185,79,97,79,109,3...</td>\n",
       "    </tr>\n",
       "    <tr>\n",
       "      <th>...</th>\n",
       "      <td>...</td>\n",
       "      <td>...</td>\n",
       "    </tr>\n",
       "    <tr>\n",
       "      <th>11153</th>\n",
       "      <td>131,70,71,56,169,37,19,17,116,17,19,5,15,5,38,...</td>\n",
       "      <td>70,71,19,214,141,5,116,70,71,19,70,71,96,34,49...</td>\n",
       "    </tr>\n",
       "    <tr>\n",
       "      <th>2942</th>\n",
       "      <td>131,38,147,136,22,44,3,83,3,44,28,156,74,32,84...</td>\n",
       "      <td>79,44,2,79,134,3,3,100,54,2,20,124,95,67,123,1...</td>\n",
       "    </tr>\n",
       "    <tr>\n",
       "      <th>4740</th>\n",
       "      <td>230,5,52,24,116,132,170,258,24,5,20,162,231,39...</td>\n",
       "      <td>12,215,199,110,192,25,158,91,10,68,261,21,263,...</td>\n",
       "    </tr>\n",
       "    <tr>\n",
       "      <th>10157</th>\n",
       "      <td>133,5,277,25,17,24,177,24,1,45,29,108,257,177,...</td>\n",
       "      <td>131,38,19,11,1,5,126,165,16,11,280,167,91,11,3...</td>\n",
       "    </tr>\n",
       "    <tr>\n",
       "      <th>22062</th>\n",
       "      <td>38,274,2,147,136,113,8,274,213,158,158,136,89,...</td>\n",
       "      <td>131,38,169,70,71,175,5,148,231,113,199,299,182...</td>\n",
       "    </tr>\n",
       "  </tbody>\n",
       "</table>\n",
       "<p>15750 rows × 2 columns</p>\n",
       "</div>"
      ],
      "text/plain": [
       "                                                       0  \\\n",
       "20240  38,274,196,21,5,290,249,21,7,85,160,22,249,256...   \n",
       "16193  131,38,19,11,1,5,126,165,16,11,280,167,91,11,3...   \n",
       "17473  15,11,259,37,17,73,50,5,16,263,136,149,142,18,...   \n",
       "12456  259,289,17,17,94,83,5,25,5,70,71,62,25,3,124,8...   \n",
       "15226  131,38,13,13,140,44,83,223,28,101,196,11,19,15...   \n",
       "...                                                  ...   \n",
       "11153  131,70,71,56,169,37,19,17,116,17,19,5,15,5,38,...   \n",
       "2942   131,38,147,136,22,44,3,83,3,44,28,156,74,32,84...   \n",
       "4740   230,5,52,24,116,132,170,258,24,5,20,162,231,39...   \n",
       "10157  133,5,277,25,17,24,177,24,1,45,29,108,257,177,...   \n",
       "22062  38,274,2,147,136,113,8,274,213,158,158,136,89,...   \n",
       "\n",
       "                                                       0  \n",
       "20240  131,38,22,63,63,140,13,101,83,63,140,169,132,1...  \n",
       "16193  38,169,268,19,5,5,84,169,229,82,163,22,32,17,3...  \n",
       "17473  131,38,19,156,196,169,177,253,214,82,19,14,16,...  \n",
       "12456  38,43,61,2,46,164,133,2,294,30,17,30,2,30,2,23...  \n",
       "15226  38,19,11,109,185,43,1,17,25,185,79,97,79,109,3...  \n",
       "...                                                  ...  \n",
       "11153  70,71,19,214,141,5,116,70,71,19,70,71,96,34,49...  \n",
       "2942   79,44,2,79,134,3,3,100,54,2,20,124,95,67,123,1...  \n",
       "4740   12,215,199,110,192,25,158,91,10,68,261,21,263,...  \n",
       "10157  131,38,19,11,1,5,126,165,16,11,280,167,91,11,3...  \n",
       "22062  131,38,169,70,71,175,5,148,231,113,199,299,182...  \n",
       "\n",
       "[15750 rows x 2 columns]"
      ]
     },
     "execution_count": 66,
     "metadata": {},
     "output_type": "execute_result"
    }
   ],
   "source": [
    "X_train"
   ]
  },
  {
   "cell_type": "code",
   "execution_count": 67,
   "metadata": {
    "scrolled": true
   },
   "outputs": [],
   "source": [
    "x1_train = X_train.iloc[:,0].str.split(',', expand=True).values\n",
    "x2_train = X_train.iloc[:,1].str.split(',', expand=True).values\n",
    "x1_test = X_test.iloc[:,0].str.split(',', expand=True).values\n",
    "x2_test = X_test.iloc[:,1].str.split(',', expand=True).values"
   ]
  },
  {
   "cell_type": "code",
   "execution_count": 68,
   "metadata": {
    "scrolled": true
   },
   "outputs": [
    {
     "name": "stdout",
     "output_type": "stream",
     "text": [
      "(15750, 300)\n",
      "(15750, 300)\n",
      "(6750, 300)\n",
      "(6750, 300)\n",
      "(15750,)\n",
      "(6750,)\n"
     ]
    }
   ],
   "source": [
    "print(x1_train.shape)\n",
    "print(x2_train.shape)\n",
    "print(x1_test.shape)\n",
    "print(x2_test.shape)\n",
    "print(y_train.shape)\n",
    "print(y_test.shape)"
   ]
  },
  {
   "cell_type": "code",
   "execution_count": 100,
   "metadata": {},
   "outputs": [
    {
     "data": {
      "text/plain": [
       "dtype('int32')"
      ]
     },
     "execution_count": 100,
     "metadata": {},
     "output_type": "execute_result"
    }
   ],
   "source": [
    "x2_test.dtype"
   ]
  },
  {
   "cell_type": "code",
   "execution_count": 87,
   "metadata": {},
   "outputs": [],
   "source": [
    "x1_train = x1_train.astype(int)\n",
    "x2_train = x2_train.astype(int)\n",
    "x1_test = x1_test.astype(int)\n",
    "x2_test = x2_test.astype(int)"
   ]
  },
  {
   "cell_type": "markdown",
   "metadata": {},
   "source": [
    "### Euclidean distance"
   ]
  },
  {
   "cell_type": "code",
   "execution_count": 69,
   "metadata": {},
   "outputs": [],
   "source": [
    "def euclidean_distance(output):\n",
    "    x, y = output[0],output[1]\n",
    "    return K.sqrt(K.sum(K.square(x - y), axis=1, keepdims=True))"
   ]
  },
  {
   "cell_type": "markdown",
   "metadata": {},
   "source": [
    "### LSTM Siamese Network"
   ]
  },
  {
   "cell_type": "code",
   "execution_count": 71,
   "metadata": {},
   "outputs": [],
   "source": [
    "\n",
    "def lstm_model(input_shape,embedding_matrix,embedding_dim):\n",
    "  model_input = Input(shape=(input_shape,))\n",
    "  layer = Embedding(input_dim=unique_vocab+1, output_dim=embedding_dim, input_length=max_len,\n",
    "                    weights=[embedding_matrix],trainable=False)(model_input)\n",
    "  layer = Bidirectional(LSTM(30, return_sequences=True))(layer)\n",
    "  layer = Bidirectional(LSTM(10))(layer)        \n",
    "  layer = Dense(15)(layer)\n",
    "  output = Flatten()(layer)\n",
    "  \n",
    "  model = Model(inputs=model_input, outputs=output)\n",
    "  model.summary()\n",
    "  return model"
   ]
  },
  {
   "cell_type": "code",
   "execution_count": 72,
   "metadata": {},
   "outputs": [
    {
     "name": "stdout",
     "output_type": "stream",
     "text": [
      "Model: \"functional_1\"\n",
      "_________________________________________________________________\n",
      "Layer (type)                 Output Shape              Param #   \n",
      "=================================================================\n",
      "input_1 (InputLayer)         [(None, 300)]             0         \n",
      "_________________________________________________________________\n",
      "embedding (Embedding)        (None, 300, 300)          1351500   \n",
      "_________________________________________________________________\n",
      "bidirectional (Bidirectional (None, 300, 60)           79440     \n",
      "_________________________________________________________________\n",
      "bidirectional_1 (Bidirection (None, 20)                5680      \n",
      "_________________________________________________________________\n",
      "dense (Dense)                (None, 15)                315       \n",
      "_________________________________________________________________\n",
      "flatten (Flatten)            (None, 15)                0         \n",
      "=================================================================\n",
      "Total params: 1,436,935\n",
      "Trainable params: 85,435\n",
      "Non-trainable params: 1,351,500\n",
      "_________________________________________________________________\n"
     ]
    }
   ],
   "source": [
    "model = lstm_model(max_len,embedding_matrix,embedding_dim)"
   ]
  },
  {
   "cell_type": "code",
   "execution_count": 73,
   "metadata": {},
   "outputs": [],
   "source": [
    "emb = Embedding(input_dim=unique_vocab+1, output_dim=embedding_dim, input_length=max_len,\n",
    "                    weights=[embedding_matrix],trainable=False)"
   ]
  },
  {
   "cell_type": "code",
   "execution_count": 74,
   "metadata": {},
   "outputs": [],
   "source": [
    "input_q1 = Input(shape=(max_len,))\n",
    "e1 = emb(input_q1)\n",
    "layer1_1 = Bidirectional(LSTM(30, return_sequences=True))(e1)\n",
    "x1 = Bidirectional(LSTM(10))(layer1_1)                              \n",
    "                      \n",
    "input_q2 = Input(shape=(max_len,))\n",
    "e2 = emb(input_q2)\n",
    "layer1_2 = Bidirectional(LSTM(30, return_sequences=True))(e2)\n",
    "x2 = Bidirectional(LSTM(10))(layer1_2)  "
   ]
  },
  {
   "cell_type": "code",
   "execution_count": 75,
   "metadata": {
    "scrolled": true
   },
   "outputs": [],
   "source": [
    "mhd = lambda x: tf.keras.backend.abs(x[0] - x[1])\n",
    "merged = tf.keras.layers.Lambda(function=mhd, output_shape=lambda x: x[0],\n",
    "name='L1_distance')([x1, x2])\n",
    "preds = tf.keras.layers.Dense(1, activation='sigmoid')(merged)\n",
    "model = tf.keras.Model(inputs=[input_q1, input_q2], outputs=preds)"
   ]
  },
  {
   "cell_type": "code",
   "execution_count": 76,
   "metadata": {
    "scrolled": false
   },
   "outputs": [
    {
     "name": "stdout",
     "output_type": "stream",
     "text": [
      "Model: \"functional_3\"\n",
      "__________________________________________________________________________________________________\n",
      "Layer (type)                    Output Shape         Param #     Connected to                     \n",
      "==================================================================================================\n",
      "input_2 (InputLayer)            [(None, 300)]        0                                            \n",
      "__________________________________________________________________________________________________\n",
      "input_3 (InputLayer)            [(None, 300)]        0                                            \n",
      "__________________________________________________________________________________________________\n",
      "embedding_1 (Embedding)         (None, 300, 300)     1351500     input_2[0][0]                    \n",
      "                                                                 input_3[0][0]                    \n",
      "__________________________________________________________________________________________________\n",
      "bidirectional_2 (Bidirectional) (None, 300, 60)      79440       embedding_1[0][0]                \n",
      "__________________________________________________________________________________________________\n",
      "bidirectional_4 (Bidirectional) (None, 300, 60)      79440       embedding_1[1][0]                \n",
      "__________________________________________________________________________________________________\n",
      "bidirectional_3 (Bidirectional) (None, 20)           5680        bidirectional_2[0][0]            \n",
      "__________________________________________________________________________________________________\n",
      "bidirectional_5 (Bidirectional) (None, 20)           5680        bidirectional_4[0][0]            \n",
      "__________________________________________________________________________________________________\n",
      "L1_distance (Lambda)            (None, 20)           0           bidirectional_3[0][0]            \n",
      "                                                                 bidirectional_5[0][0]            \n",
      "__________________________________________________________________________________________________\n",
      "dense_1 (Dense)                 (None, 1)            21          L1_distance[0][0]                \n",
      "==================================================================================================\n",
      "Total params: 1,521,761\n",
      "Trainable params: 170,261\n",
      "Non-trainable params: 1,351,500\n",
      "__________________________________________________________________________________________________\n"
     ]
    }
   ],
   "source": [
    "model.summary()"
   ]
  },
  {
   "cell_type": "code",
   "execution_count": 78,
   "metadata": {},
   "outputs": [],
   "source": [
    "model.compile(loss=\"mean_squared_error\",optimizer=\"adam\",metrics=['accuracy'])"
   ]
  },
  {
   "cell_type": "code",
   "execution_count": 88,
   "metadata": {},
   "outputs": [
    {
     "name": "stdout",
     "output_type": "stream",
     "text": [
      "Epoch 1/10\n",
      "443/443 [==============================] - 115s 259ms/step - loss: 0.0728 - accuracy: 0.9234 - val_loss: 0.0628 - val_accuracy: 0.9327\n",
      "Epoch 2/10\n",
      "443/443 [==============================] - 118s 265ms/step - loss: 0.0623 - accuracy: 0.9334 - val_loss: 0.0628 - val_accuracy: 0.9327\n",
      "Epoch 3/10\n",
      "443/443 [==============================] - 100s 227ms/step - loss: 0.0622 - accuracy: 0.9334 - val_loss: 0.0628 - val_accuracy: 0.9327\n",
      "Epoch 4/10\n",
      "443/443 [==============================] - 106s 240ms/step - loss: 0.0622 - accuracy: 0.9334 - val_loss: 0.0628 - val_accuracy: 0.9327\n",
      "Epoch 5/10\n",
      "443/443 [==============================] - 127s 288ms/step - loss: 0.0621 - accuracy: 0.9334 - val_loss: 0.0626 - val_accuracy: 0.9327\n",
      "Epoch 6/10\n",
      "443/443 [==============================] - 126s 285ms/step - loss: 0.0620 - accuracy: 0.9334 - val_loss: 0.0626 - val_accuracy: 0.9327\n",
      "Epoch 7/10\n",
      "443/443 [==============================] - 181s 408ms/step - loss: 0.0618 - accuracy: 0.9334 - val_loss: 0.0626 - val_accuracy: 0.9327\n",
      "Epoch 8/10\n",
      "443/443 [==============================] - 182s 410ms/step - loss: 0.0616 - accuracy: 0.9334 - val_loss: 0.0626 - val_accuracy: 0.9327\n",
      "Epoch 9/10\n",
      "443/443 [==============================] - 183s 413ms/step - loss: 0.0615 - accuracy: 0.9335 - val_loss: 0.0624 - val_accuracy: 0.9327\n",
      "Epoch 10/10\n",
      "443/443 [==============================] - 184s 414ms/step - loss: 0.0615 - accuracy: 0.9335 - val_loss: 0.0628 - val_accuracy: 0.9327\n"
     ]
    }
   ],
   "source": [
    "history = model.fit([x1_train,x2_train],\n",
    "                    y_train,\n",
    "                    epochs=10,\n",
    "                    validation_split=0.1\n",
    "                   )"
   ]
  },
  {
   "cell_type": "code",
   "execution_count": 94,
   "metadata": {},
   "outputs": [],
   "source": [
    "y_pred = model.predict([x1_test,x2_test])"
   ]
  },
  {
   "cell_type": "code",
   "execution_count": 101,
   "metadata": {},
   "outputs": [
    {
     "name": "stdout",
     "output_type": "stream",
     "text": [
      "135/135 [==============================] - 48s 354ms/step - loss: 0.0613 - accuracy: 0.9333\n"
     ]
    }
   ],
   "source": [
    "results = model.evaluate([x1_test,x2_test],y_test,batch_size=50)"
   ]
  },
  {
   "cell_type": "code",
   "execution_count": 102,
   "metadata": {
    "scrolled": true
   },
   "outputs": [
    {
     "data": {
      "image/png": "[encoded data removed]",
      "text/plain": [
       "<Figure size 432x288 with 1 Axes>"
      ]
     },
     "metadata": {
      "needs_background": "light"
     },
     "output_type": "display_data"
    }
   ],
   "source": [
    "from matplotlib import pyplot\n",
    "\n",
    "pyplot.plot(history.history['loss'])\n",
    "pyplot.plot(history.history['val_loss'])\n",
    "pyplot.title('model train vs validation loss')\n",
    "pyplot.ylabel('loss')\n",
    "pyplot.xlabel('epoch')\n",
    "pyplot.legend(['train', 'validation'])\n",
    "pyplot.show()"
   ]
  },
  {
   "cell_type": "markdown",
   "metadata": {},
   "source": [
    "#### Saving the model"
   ]
  },
  {
   "cell_type": "code",
   "execution_count": 112,
   "metadata": {
    "scrolled": true
   },
   "outputs": [],
   "source": [
    "import os.path\n",
    "if os.path.isfile('C:/Users/kavin/CDSmodels/siamesemodel1.h5') is False:\n",
    "    model.save('C:/Users/kavin/CDSmodels/siamesemodel1.h5')"
   ]
  },
  {
   "cell_type": "code",
   "execution_count": 113,
   "metadata": {},
   "outputs": [],
   "source": [
    "from tensorflow.keras.models import load_model\n",
    "new_model = load_model('C:/Users/kavin/CDSmodels/siamesemodel1.h5')"
   ]
  }
 ],
 "metadata": {
  "kernelspec": {
   "display_name": "Python 3",
   "language": "python",
   "name": "python3"
  },
  "language_info": {
   "codemirror_mode": {
    "name": "ipython",
    "version": 3
   },
   "file_extension": ".py",
   "mimetype": "text/x-python",
   "name": "python",
   "nbconvert_exporter": "python",
   "pygments_lexer": "ipython3",
   "version": "3.8.3"
  }
 },
 "nbformat": 4,
 "nbformat_minor": 4
}
